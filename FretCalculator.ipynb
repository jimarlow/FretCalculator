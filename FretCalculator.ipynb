{
 "cells": [
  {
   "cell_type": "markdown",
   "metadata": {},
   "source": [
    "# Fret Position Calculators\n",
    "This notebook contains two fret position calculators and a short discussion of fretting."
   ]
  },
  {
   "cell_type": "markdown",
   "metadata": {},
   "source": [
    "# 12TET fret position calculator\n",
    "This application calculates the fret positions for a fretted instrument tuned according to standard Western 12 tone equal temperament (12TET). This includes most modern fretted instruments: guitars, dulcimers, mandolins etc.\n",
    "\n",
    "Historic instruments, such as lutes, are often also tuned according to 12TET for convenience, but if they use historic temperaments and tunings, then this fret calculator obviously will not apply.\n",
    "\n",
    "In the application that follows, you can use the sliders to set the scale length and number of frets, or you can just overtype the numbers at the end of the sliders. The default values of 650mm and 19 frets are typical for a classical guitar."
   ]
  },
  {
   "cell_type": "code",
   "execution_count": 1,
   "metadata": {},
   "outputs": [
    {
     "data": {
      "application/vnd.jupyter.widget-view+json": {
       "model_id": "ec5796746d884dfeabd868681f3a49f1"
      }
     },
     "metadata": {},
     "output_type": "display_data"
    }
   ],
   "source": [
    "from ipywidgets import *\n",
    "\n",
    "def TTETFrets(scaleLength=650, frets = 19, precision = 3):\n",
    "    trt = 1.0594630943592952646 # The 12th root of 2\n",
    "    l = scaleLength\n",
    "    fretData = []\n",
    "    spacing = 0\n",
    "    for f, i in enumerate(range(frets)):\n",
    "        fromNut = round(scaleLength - l, precision)\n",
    "        fromBridge = round(l, precision)\n",
    "        lastL = l\n",
    "        l = l / trt\n",
    "        fretData.append((f, fromNut, fromBridge, spacing))\n",
    "        spacing = round(lastL - l, precision)\n",
    "    return fretData\n",
    "\n",
    "@interact(scaleLength=(1,1000.00), frets=(1,27), precision=[0,1,2,3])\n",
    "def TTETFretCalculator(scaleLength = 650.0, frets = 19, precision=3):\n",
    "    fdata = TTETFrets(scaleLength, frets, precision)\n",
    "    print('Fret\\tFrom nut\\tFrom bridge\\tTo previous fret')\n",
    "    for d in fdata:\n",
    "        print('{}\\t{}\\t\\t{}\\t\\t{}'.format(d[0], d[1], d[2], d[3]))"
   ]
  },
  {
   "cell_type": "markdown",
   "metadata": {},
   "source": [
    "## Guidelines for using the fret position calculator\n",
    "\n",
    "The scale length of a fretted instrument is the vibrating length of the unfretted string. This is the distance from where the string leaves the nut (usually the face of the nut nearest to the bridge), to where the string passes over the saddle (if there is one), or is otherwise fixed at the bridge.\n",
    "\n",
    "When you are building an instrument, always measure the true nut to bridge distance of your instrument and use that to calculate the actual (as opposed to the theoretical) fret positions. This will correct for any slight inaccuracy in positioning the bridge.\n",
    "\n",
    "It is best to measure the fret positions from the nut. Clamp one end of a ruler at the nut, and mark the fret positions on the fretboard without moving the ruler. \n",
    "\n",
    "Never, under any circumstances, mark a fret and then measure from that to mark the next fret! This generates large cumulative errors. Inter-fret spacings are given above only so you can do a sanity check after marking the fretboard."
   ]
  },
  {
   "cell_type": "markdown",
   "metadata": {},
   "source": [
    "## Theory of the 12TET fret position calculator"
   ]
  },
  {
   "cell_type": "markdown",
   "metadata": {},
   "source": [
    "The fundamental frequency of a vibrating string is:\n",
    "\n",
    "1. Inversely proportional to the length of the string - the longer the string, the lower the frequency\n",
    "2. Proportional to the square root of the stretching force (tension) in the string - the higher the tension, the higher the frequency\n",
    "3. Inversely proportional to the square root of the mass per unit length - the thicker and heavier the string the lower the frequency\n",
    "\n",
    "These proportionalities are expressed in Mersenne's Law:\n",
    "\n",
    "$$f_0 = \\frac{1}{2L}\\sqrt{\\frac{F}{\\mu}}$$\n",
    "\n",
    "$$f_0 = \\text{fundamental frequency of string}$$\n",
    "$$L = \\text{length of string}$$\n",
    "$$F = \\text{tension of string}$$\n",
    "$${\\mu} = \\text{mass per unit length of string}$$"
   ]
  },
  {
   "cell_type": "markdown",
   "metadata": {},
   "source": [
    "For a given string on a fretted instrument, the tension and mass per unit length are constant, so the fundamental frequency is just inversely proportional to the string length:\n",
    "\n",
    "$$f_0 \\propto \\frac{1}{L}$$\n",
    "\n",
    "Here is a program so that you can see the effect of changing the string length on the fundamental frequency. For purposes of illustration, we set the fundamental frequency at length 1 to be 1:"
   ]
  },
  {
   "cell_type": "code",
   "execution_count": 2,
   "metadata": {},
   "outputs": [
    {
     "data": {
      "application/vnd.jupyter.widget-view+json": {
       "model_id": "d0b92328e3094806b75994cd8b07c46b"
      }
     },
     "metadata": {},
     "output_type": "display_data"
    }
   ],
   "source": [
    "@interact(stringLength=(0.1,1))\n",
    "def f0(stringLength=1):\n",
    "    print('Fundamental frequency: {}'.format(1/stringLength))"
   ]
  },
  {
   "cell_type": "markdown",
   "metadata": {},
   "source": [
    "You can see that when you half the string length from 1 to 0.5 you double the frequency. Conversely, if you double the string length from 0.5 to 1, you half the frequency. So we can generate octaves by multiplying or dividing by a factor of 2. This is because the ear responds to sound in a logarithmic fashion.\n",
    "\n",
    "What factor, n, would we have to multiply or divide by to increase or decrease frequency by one semitone? We know that the octave is divided into 12 semitones therefore:\n",
    "\n",
    "$$ n^{12}f_0 = 2 f_0$$\n",
    "\n",
    "$$n = \\sqrt[12]{2}=1.059463$$\n",
    "\n",
    "This is where the magic number 1.059463 comes from when you aare calculating fret positions - it is the 12th root of 2.\n",
    "\n",
    "Now we can calculate the position of the 1st fret as follows:\n",
    "\n",
    "$$L_{1} =\\frac{ L_{0}}{\\sqrt[12]{2}}$$\n",
    "\n",
    "$$L_{0} = \\text{bridge to nut distance}$$\n",
    "$$L_{1} = \\text{bridge to first fret distance}$$\n",
    "\n",
    "The distance from the bridge to the second fret is:\n",
    "\n",
    "$$L_{2} =\\frac{ L_{1}}{\\sqrt[12]{2}} = \\frac{ L_{0}}{{\\sqrt[12]{2}}} \\times \\frac{1}{{\\sqrt[12]{2}}}$$\n",
    "\n",
    "And generally, for fret n:\n",
    "\n",
    "$$L_{n} = \\frac{ L_{0}}{({\\sqrt[12]{2})}^{n}}$$\n",
    "\n",
    "The distance from the nut is just:\n",
    "\n",
    "$$D_{n} = L_{0} - L_{n}$$\n",
    "\n",
    "All fret position caclulators use these formulae to calculate the fret positions."
   ]
  },
  {
   "cell_type": "markdown",
   "metadata": {},
   "source": [
    "# John Dowland fret position calculator\n",
    "Because 12TET divides the octave into 12 equal parts, the only interval that is 'pure' (achieves maximum consonance) is the octave. All other intervals are a bit out. We discuss this problem in detail in another notebook in which we discuss temperaments.\n",
    "\n",
    "The English lutenist and composer John Dowland (1563-1626) in his book, *A Varietie of Lute Lessons*, gives instructions for fretting a lute that produces a result that is much sweeter sounding than 12TET. I have used this tuning on a lute and on a Baroque guitar, and I like it very much. \n",
    "\n",
    "(Note: Much of the information here comes from Jeff Lee's site: https://www.shipbrook.net/jeff/frets.html#fn1)\n",
    "\n",
    "You can find a facsimile copy of *A Varietie of Lute Lessons* here:\n",
    "\n",
    "http://onlinebooks.library.upenn.edu/webbin/book/lookupid?key=olbp16050\n",
    "\n",
    "Dowlands fretting instructions (found on the 15th page) are given below. I have split the text into sections to help you follow it, and prefixed each section with the letter name Downland uses. The only place where he does not give a letter name is \"then set the fourth fret iust in the middle, the which wil be a perfect ditone\" which I have assigned X.\n",
    "\n",
    "*\"Wherefore take a thinne flat ruler of whitish woode, and make it iust as long and straight as from the inward side of the Nut to the inward side of the Bridge, then note that end which you meane to the Bridge with some small marke, and the other end with the letter A, because you may know which belongeth to the one and to the other:*\n",
    "\n",
    "N: *then lay the ruler vpon a Table, and take a payre of compasses and seeke out the iust middle of the Ruler : that note with a pricke, and set the letter N. vpon it, which is a Diapason from the A. as appeareth by the striking of the string open.*\n",
    "\n",
    "H: *Secondly, part the distances from N. to A.[1] in three parts, then the first part giues you the seauenth fret from the Nut, making a Diapente : in that place also set a pricke, and vpon it the letter H.*\n",
    "\n",
    "B: *Thirdly, deuide the distance from the letter H. to the letter A. in eleauen parts : two of which parts from A. giues the first fret, note that with a pricke, and set the letter B. thereon, which maketh a Semitone.* \n",
    "\n",
    "C: *Fourthly, diuide the distance from H. to the letter A. in three parts, one of which parts from A. vpward sheweth the second fret, note that with a pricke, and set the letter C. vpon it, which maketh a whole Tone from A.* \n",
    "\n",
    "F: *Fiftly, diuide the distance from N. to A. into two parts, there the first part sheweth you the fift fret, sounding a Diatessaron : in that place also set a pricke, and vpon it the letter F.*\n",
    "\n",
    "G: *The sixt fret which is a G. must be placed iust in the middest betwixt F. and H. which maketh a Semidiapente.* \n",
    "\n",
    "D: *Seuenthly, diuide the distance from the letter B. to A. in three parts, which being done, measure from the B. vpwards foure times and a halfe, and that wil giue you the third fret, sounding a Semiditone : mark that also with a prick, & set thereon the letter D.*\n",
    "\n",
    "J: *then set the fourth fret iust in the middle, the which wil be a perfect ditone:* \n",
    "\n",
    "I: *then take the one third part from B. to the Bridge, and that third part from B. maketh I. which soundeth Semitonium cum Diapente,*\n",
    "\n",
    "E: *then take a third part from the Bridge to C, and that third part maketh E. which soundeth Tonus cum diapente, or an Hexachordo maior.* \n",
    "\n",
    "L: *Then take one third part from D. to the Bridge, and that third part from D. maketh L. which soundeth Ditonus cum Diapente.* \n",
    "\n",
    "*Now take your LVTE, and lay it vpon a table vpright, and set the Ruler edgewise, betweene the nut and the bridge, and thereby set little marks vpon the necke of the Instrument euen with those on the ruler, because those are the places on which your frets must stand.\"*\n",
    "\n",
    "Here is a key to some of the terms:\n",
    "\n",
    "|Term                    |Interval      |Semitones/Fret|Letter|Consonance          |\n",
    "|----------------------------------------------------------------------------------|\n",
    "|Unison                  |Unison        |0             |U     |Perfect consonance  |\n",
    "|Semitone                |Minor second  |1             |B     |Perfect dissonance  |\n",
    "|Tonus                   |Major second  |2             |C     |Median dissonance   |\n",
    "|Semiditone              |Minor 3rd     |3             |D     |Imperfect consonance|\n",
    "|Ditone                  |Major 3rd     |4             |J     |Imperfect consonance|\n",
    "|Diatessaron             |Perfect 4th   |5             |F     |Median consonance   |\n",
    "|Semidiapente            |Diminished 5th|6             |G     |Perfect dissonance  |\n",
    "|Diapente                |Perfect 5th   |7             |H     |Median consonance   |\n",
    "|Semitonium cum diapente |Minor 6th     |8             |I     |Median dissonance   |\n",
    "|Tonus cum diapente      |Major 6th     |9             |E     |Imperfect dissonance|\n",
    "|Semiditonus cum diapente|Minor 7th     |10            |X     |Imperfect dissonance|\n",
    "|Ditonus cum diapente    |Major 7th     |11            |L     |Perfect dissonance  |\n",
    "|Diapeson                |Perfect octave|12            |N     |Perfect consonance  |\n",
    "\n",
    "\n",
    "(See https://en.wikipedia.org/wiki/Consonance_and_dissonance the section 'Antiquity and Middle Ages')\n",
    "\n",
    "These instructions may be translated into the code shown below. You can see that each of Dowlands letters corresponds to a simple formula for calculating a fret position."
   ]
  },
  {
   "cell_type": "code",
   "execution_count": 6,
   "metadata": {},
   "outputs": [
    {
     "data": {
      "application/vnd.jupyter.widget-view+json": {
       "model_id": "bf38ee99cd944f0cb58224106da75ed5"
      }
     },
     "metadata": {},
     "output_type": "display_data"
    }
   ],
   "source": [
    "def DowlandFrets(scaleLength, precision = 3):\n",
    "    fData = []\n",
    "    A = scaleLength\n",
    "    N = A / 2\n",
    "    H = 2 * N / 3\n",
    "    B = 2 * H / 11\n",
    "    C = H / 3\n",
    "    F = N / 2\n",
    "    G = F + (H - F) / 2\n",
    "    D = B + 4.5 * B / 3\n",
    "    J = D + (F - D) / 2\n",
    "    I = B + (A - B) / 3\n",
    "    E = C + (A - C) / 3\n",
    "    L = D + (A - D) / 3\n",
    "    X = J + (A - J) / 3\n",
    "    prev = 0\n",
    "    for f, d in enumerate(sorted([N, H, B, C, F, G, D, J, I, E, X, L, 0])):\n",
    "        fData.append((f, round(d,precision), round(A-d,precision), (round(d - prev,precision))))\n",
    "        prev = d\n",
    "    return fData\n",
    "\n",
    "@interact(scaleLength=(1,1000.00), precision=[0,1,2,3])\n",
    "def DowlandFretCalculator(scaleLength = 650.0, precision=3):\n",
    "    print('Fret\\tFrom nut\\tFrom bridge\\tTo previous fret')\n",
    "    for d in DowlandFrets(scaleLength, precision):\n",
    "        print('{}\\t{}\\t\\t{}\\t\\t{}'.format(d[0], d[1], d[2], d[3]))"
   ]
  },
  {
   "cell_type": "markdown",
   "metadata": {},
   "source": [
    "We can compare Downland with 12TET fretting as follows:"
   ]
  },
  {
   "cell_type": "code",
   "execution_count": 4,
   "metadata": {},
   "outputs": [
    {
     "data": {
      "application/vnd.jupyter.widget-view+json": {
       "model_id": "5c75e24cced443b1a67b4ef2dc52fbdb"
      }
     },
     "metadata": {},
     "output_type": "display_data"
    }
   ],
   "source": [
    "@interact(scaleLength=(1,1000.00), precision=[0,1,2,3])\n",
    "def DowlandFretCalculator(scaleLength = 650.0, precision=3):\n",
    "    dfrets = DowlandFrets(scaleLength, precision)\n",
    "    tfrets = TTETFrets(scaleLength, 13, precision)\n",
    "    print('Fret\\t12TET from nut\\t\\tDowland from nut\\t12TET - Dowland')\n",
    "    for d, t in zip(dfrets, tfrets):\n",
    "        print('{}\\t{}\\t\\t\\t{}\\t\\t\\t{}'.format(t[0], t[1], d[1], round(t[1]-d[1], precision)))"
   ]
  },
  {
   "cell_type": "markdown",
   "metadata": {},
   "source": [
    "There is precise agreement between the two schemes at the 12th fret because this is the octave. You can see that there are very significant differences at the 3rd and 4th frets. These differences have the effect of sweetening the sound of the lute."
   ]
  },
  {
   "cell_type": "markdown",
   "metadata": {},
   "source": [
    "## Resources for lute players\n",
    "\n",
    "Here are some useful online resources for lute and baroque guitar players:\n",
    "\n",
    "String calculator: https://www.niskanenlutes.com/index.php?p=stringcalc\n",
    "\n",
    "Fret calculator: https://niskanenlutes.com/index.php?p=frets\n",
    "\n",
    "Lute Society of America fret spreadsheet: http://www.cs.dartmouth.edu/~lsa/download/index.html"
   ]
  }
 ],
 "metadata": {
  "kernelspec": {
   "display_name": "Python 3",
   "language": "python",
   "name": "python3"
  },
  "language_info": {
   "codemirror_mode": {
    "name": "ipython",
    "version": 3
   },
   "file_extension": ".py",
   "mimetype": "text/x-python",
   "name": "python",
   "nbconvert_exporter": "python",
   "pygments_lexer": "ipython3",
   "version": "3.6.1"
  }
 },
 "nbformat": 4,
 "nbformat_minor": 2
}
